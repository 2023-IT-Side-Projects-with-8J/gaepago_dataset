{
 "cells": [
  {
   "cell_type": "code",
   "execution_count": 278,
   "metadata": {},
   "outputs": [],
   "source": [
    "import pathlib\n",
    "import matplotlib.pyplot as plt\n",
    "import pandas as pd\n",
    "import warnings\n",
    "import numpy as np\n",
    "warnings.filterwarnings('ignore')\n"
   ]
  },
  {
   "cell_type": "code",
   "execution_count": 206,
   "metadata": {},
   "outputs": [],
   "source": [
    "# # download dataset from huggingface\n",
    "# from huggingface_hub import snapshot_download\n",
    "# snapshot_download(repo_id=\"Gae8J/Gaepago\",repo_type='dataset',local_dir = \"download_dir\")"
   ]
  },
  {
   "attachments": {},
   "cell_type": "markdown",
   "metadata": {},
   "source": [
    "# Get downloaded wav ids"
   ]
  },
  {
   "cell_type": "code",
   "execution_count": 227,
   "metadata": {},
   "outputs": [
    {
     "name": "stdout",
     "output_type": "stream",
     "text": [
      "['2mJbGx5D-zA', 'FTYgwHJUkaY', 'raww5tvi85A', 'wSDDZL5mauE', '1PxKjFulkLs']\n",
      "The number of wav ids of .wav file: 643\n",
      "The number of unique wav ids of .wav file: 357\n"
     ]
    }
   ],
   "source": [
    "# \n",
    "wav_path = pathlib.Path('./download_dir/raw/wav/').glob('**/*')\n",
    "dowloaded_raw_paths = [wav for wav in wav_path if wav.is_file()]\n",
    "\n",
    "#\n",
    "wav_ids = [ file_path.name.split('.wav')[0] for file_path in dowloaded_raw_paths if '.wav' in file_path.name] \n",
    "print(wav_ids[0:5])\n",
    "print('The number of wav ids of .wav file:', len(wav_ids))\n",
    "print('The number of unique wav ids of .wav file:', len(set(wav_ids)))"
   ]
  },
  {
   "attachments": {},
   "cell_type": "markdown",
   "metadata": {},
   "source": [
    "# Make info dataframe "
   ]
  },
  {
   "cell_type": "code",
   "execution_count": 228,
   "metadata": {},
   "outputs": [
    {
     "name": "stdout",
     "output_type": "stream",
     "text": [
      "The number of matching info ids: 357\n",
      "There are {'eval_segments', 'balanced_trained_segments'} dataset exist\n",
      "balanced_trained_segments #22160, eval_segments #20371\n"
     ]
    }
   ],
   "source": [
    "#\n",
    "balanced_trained_segments = pd.read_csv('./metadata/balanced_train_segments.csv', sep=',', quotechar='\"', skipinitialspace=True)\n",
    "balanced_trained_segments['src'] = 'balanced_trained_segments'\n",
    "eval_segments = pd.read_csv('./metadata/eval_segments.csv', sep=',', quotechar='\"', skipinitialspace=True)\n",
    "eval_segments['src'] = 'eval_segments'\n",
    "unbalanced_train_segments = pd.read_csv('./metadata/unbalanced_train_segments.csv', sep=',', quotechar='\"', skipinitialspace=True)\n",
    "unbalanced_train_segments['src'] = 'unbalanced_train_segments'\n",
    "\n",
    "df = pd.concat([balanced_trained_segments, eval_segments, unbalanced_train_segments], axis=0).reset_index(drop=True)\n",
    "df = df[df.YTID.isin(wav_ids)].reset_index(drop=True)\n",
    "\n",
    "# \n",
    "labels = pd.read_csv('./metadata/class_labels_indices.csv', sep=',')\n",
    "prefix_sounds = ['Bark', 'Bow-wow', 'Growling', 'Howl', 'Whimper (dog)', 'Yip']\n",
    "labels = labels[labels.display_name.isin(prefix_sounds)].reset_index(drop=True)\n",
    "for idx in range(len(df)):\n",
    "    mids = df.iloc[idx][\"positive_labels\"].split(',')\n",
    "    text_label = list(set([ list(labels[labels.mid == mid]['display_name']).pop() for mid in mids if mid in list(labels['mid'])]))\n",
    "    \n",
    "    df['positive_labels'][idx] = \",\".join(text_label)\n",
    "\n",
    "print('The number of matching info ids:', len(df))\n",
    "print(f\"There are {set(list(df['src']))} dataset exist\", )\n",
    "print(f'balanced_trained_segments #{len(balanced_trained_segments)}, eval_segments #{len(eval_segments)}')"
   ]
  },
  {
   "cell_type": "code",
   "execution_count": 229,
   "metadata": {},
   "outputs": [
    {
     "data": {
      "text/html": [
       "<div>\n",
       "<style scoped>\n",
       "    .dataframe tbody tr th:only-of-type {\n",
       "        vertical-align: middle;\n",
       "    }\n",
       "\n",
       "    .dataframe tbody tr th {\n",
       "        vertical-align: top;\n",
       "    }\n",
       "\n",
       "    .dataframe thead th {\n",
       "        text-align: right;\n",
       "    }\n",
       "</style>\n",
       "<table border=\"1\" class=\"dataframe\">\n",
       "  <thead>\n",
       "    <tr style=\"text-align: right;\">\n",
       "      <th></th>\n",
       "      <th>YTID</th>\n",
       "      <th>start_seconds</th>\n",
       "      <th>end_seconds</th>\n",
       "      <th>positive_labels</th>\n",
       "      <th>src</th>\n",
       "    </tr>\n",
       "  </thead>\n",
       "  <tbody>\n",
       "    <tr>\n",
       "      <th>0</th>\n",
       "      <td>-G3Ph35cTy0</td>\n",
       "      <td>30.0</td>\n",
       "      <td>40.0</td>\n",
       "      <td>Whimper (dog)</td>\n",
       "      <td>balanced_trained_segments</td>\n",
       "    </tr>\n",
       "    <tr>\n",
       "      <th>1</th>\n",
       "      <td>-ODzHayGHvk</td>\n",
       "      <td>50.0</td>\n",
       "      <td>60.0</td>\n",
       "      <td>Growling</td>\n",
       "      <td>balanced_trained_segments</td>\n",
       "    </tr>\n",
       "    <tr>\n",
       "      <th>2</th>\n",
       "      <td>-QVqh513RxQ</td>\n",
       "      <td>15.0</td>\n",
       "      <td>25.0</td>\n",
       "      <td>Whimper (dog)</td>\n",
       "      <td>balanced_trained_segments</td>\n",
       "    </tr>\n",
       "    <tr>\n",
       "      <th>3</th>\n",
       "      <td>-Ry1YNVPPCM</td>\n",
       "      <td>9.0</td>\n",
       "      <td>19.0</td>\n",
       "      <td>Whimper (dog),Bow-wow</td>\n",
       "      <td>balanced_trained_segments</td>\n",
       "    </tr>\n",
       "    <tr>\n",
       "      <th>4</th>\n",
       "      <td>-hDuDDv0lbQ</td>\n",
       "      <td>30.0</td>\n",
       "      <td>40.0</td>\n",
       "      <td>Yip,Howl</td>\n",
       "      <td>balanced_trained_segments</td>\n",
       "    </tr>\n",
       "  </tbody>\n",
       "</table>\n",
       "</div>"
      ],
      "text/plain": [
       "          YTID  start_seconds  end_seconds        positive_labels   \n",
       "0  -G3Ph35cTy0           30.0         40.0          Whimper (dog)  \\\n",
       "1  -ODzHayGHvk           50.0         60.0               Growling   \n",
       "2  -QVqh513RxQ           15.0         25.0          Whimper (dog)   \n",
       "3  -Ry1YNVPPCM            9.0         19.0  Whimper (dog),Bow-wow   \n",
       "4  -hDuDDv0lbQ           30.0         40.0               Yip,Howl   \n",
       "\n",
       "                         src  \n",
       "0  balanced_trained_segments  \n",
       "1  balanced_trained_segments  \n",
       "2  balanced_trained_segments  \n",
       "3  balanced_trained_segments  \n",
       "4  balanced_trained_segments  "
      ]
     },
     "execution_count": 229,
     "metadata": {},
     "output_type": "execute_result"
    }
   ],
   "source": [
    "df.head()"
   ]
  },
  {
   "attachments": {},
   "cell_type": "markdown",
   "metadata": {},
   "source": [
    "# EDA"
   ]
  },
  {
   "attachments": {},
   "cell_type": "markdown",
   "metadata": {},
   "source": [
    "##### Figure out duration each source(balanced_trained_segments, eval_segments, unbalanced_train_segments)\n"
   ]
  },
  {
   "cell_type": "code",
   "execution_count": 133,
   "metadata": {},
   "outputs": [
    {
     "data": {
      "text/plain": [
       "([<matplotlib.axis.XTick at 0x7f5692606a60>,\n",
       "  <matplotlib.axis.XTick at 0x7f5692606ac0>],\n",
       " [Text(1, 0, 'balanced_trained_segments'), Text(2, 0, 'eval_segments')])"
      ]
     },
     "execution_count": 133,
     "metadata": {},
     "output_type": "execute_result"
    },
    {
     "data": {
      "image/png": "[encoded data removed]",
      "text/plain": [
       "<Figure size 640x480 with 1 Axes>"
      ]
     },
     "metadata": {},
     "output_type": "display_data"
    }
   ],
   "source": [
    "# figure out duration each source(balanced_trained_segments, eval_segments, unbalanced_train_segments)\n",
    "sub_df = df[['start_seconds', 'end_seconds', 'src']]\n",
    "sub_df['duration'] = sub_df['end_seconds'] - sub_df['start_seconds']\n",
    "\n",
    "balanced_trained_segments_duration = sub_df[sub_df.src == 'balanced_trained_segments']['duration']\n",
    "eval_segments_duration = sub_df[sub_df.src == 'eval_segments']['duration']\n",
    "# unbalanced_train_segments_duration = sub_df[sub_df.src == 'unbalanced_train_segments']['duration']\n",
    "\n",
    "fig,ax = plt.subplots()\n",
    "ax.boxplot([list(balanced_trained_segments_duration), list(eval_segments_duration)])\n",
    "plt.xticks([1, 2], ['balanced_trained_segments', 'eval_segments'])"
   ]
  },
  {
   "attachments": {},
   "cell_type": "markdown",
   "metadata": {},
   "source": [
    "##### The number of data for each class "
   ]
  },
  {
   "cell_type": "code",
   "execution_count": 266,
   "metadata": {},
   "outputs": [
    {
     "name": "stdout",
     "output_type": "stream",
     "text": [
      "balanced_trained_segments: The number of Bark is 52\n",
      "balanced_trained_segments: The number of Bow-wow is 55\n",
      "balanced_trained_segments: The number of Growling is 51\n",
      "balanced_trained_segments: The number of Howl is 16\n",
      "balanced_trained_segments: The number of Whimper is 50\n",
      "balanced_trained_segments: The number of Yip is 52\n",
      "eval_segments: The number of Bark is 50\n",
      "eval_segments: The number of Bow-wow is 61\n",
      "eval_segments: The number of Growling is 56\n",
      "eval_segments: The number of Howl is 14\n",
      "eval_segments: The number of Whimper is 48\n",
      "eval_segments: The number of Yip is 52\n"
     ]
    }
   ],
   "source": [
    "prefix_sounds = ['Bark', 'Bow-wow', 'Growling', 'Howl', 'Whimper (dog)', 'Yip']\n",
    "\n",
    "\n",
    "for src in ['balanced_trained_segments', 'eval_segments']:\n",
    "    _df = df[df['src'] == src].reset_index(drop=True)\n",
    "    for sound in prefix_sounds:\n",
    "        if sound == 'Whimper (dog)':\n",
    "            sound = 'Whimper'\n",
    "        \n",
    "        count = sum(_df['positive_labels'].str.contains(sound))\n",
    "\n",
    "        print(f'{src}: The number of {sound} is {count}')"
   ]
  },
  {
   "attachments": {},
   "cell_type": "markdown",
   "metadata": {},
   "source": [
    "##### Check multi-label of data"
   ]
  },
  {
   "cell_type": "code",
   "execution_count": 279,
   "metadata": {},
   "outputs": [
    {
     "name": "stdout",
     "output_type": "stream",
     "text": [
      "average of total 1.5602240896358543\n",
      "average of balanced_trained_segments 1.4759358288770053\n",
      "average of eval_segments 1.6529411764705881\n"
     ]
    },
    {
     "data": {
      "image/png": "[encoded data removed]",
      "text/plain": [
       "<Figure size 640x480 with 1 Axes>"
      ]
     },
     "metadata": {},
     "output_type": "display_data"
    }
   ],
   "source": [
    "df['nClass'] = df['positive_labels'].apply(lambda x: x.count(',') + 1)\n",
    "\n",
    "total = list(df['nClass'])\n",
    "balanced_trained_segments = list(df[df['src'] == 'balanced_trained_segments']['nClass'])\n",
    "eval_segments = list(df[df['src'] == 'eval_segments']['nClass'])\n",
    "\n",
    "fig,ax = plt.subplots()\n",
    "ax.boxplot([total, balanced_trained_segments, eval_segments])\n",
    "plt.xticks([1, 2, 3], ['total', 'balanced_trained_segments', 'eval_segments'])\n",
    "print('average of total', np.mean(total))\n",
    "print('average of balanced_trained_segments', np.mean(balanced_trained_segments))\n",
    "print('average of eval_segments', np.mean(eval_segments))"
   ]
  },
  {
   "attachments": {},
   "cell_type": "markdown",
   "metadata": {},
   "source": [
    "##### Plot frequency of audio"
   ]
  },
  {
   "cell_type": "code",
   "execution_count": null,
   "metadata": {},
   "outputs": [],
   "source": []
  },
  {
   "attachments": {},
   "cell_type": "markdown",
   "metadata": {},
   "source": [
    "##### mel spectrogram"
   ]
  },
  {
   "attachments": {},
   "cell_type": "markdown",
   "metadata": {},
   "source": []
  }
 ],
 "metadata": {
  "kernelspec": {
   "display_name": ".venv",
   "language": "python",
   "name": "python3"
  },
  "language_info": {
   "codemirror_mode": {
    "name": "ipython",
    "version": 3
   },
   "file_extension": ".py",
   "mimetype": "text/x-python",
   "name": "python",
   "nbconvert_exporter": "python",
   "pygments_lexer": "ipython3",
   "version": "3.8.16"
  },
  "orig_nbformat": 4
 },
 "nbformat": 4,
 "nbformat_minor": 2
}
